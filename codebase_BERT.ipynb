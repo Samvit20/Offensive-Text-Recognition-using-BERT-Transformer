{
 "cells": [
  {
   "cell_type": "code",
   "execution_count": 6,
   "metadata": {},
   "outputs": [
    {
     "name": "stdout",
     "output_type": "stream",
     "text": [
      "Imported Libraries\n"
     ]
    }
   ],
   "source": [
    "import pandas as pd\n",
    "import numpy as np\n",
    "import os\n",
    "import matplotlib.pyplot as plt\n",
    "import seaborn as sns\n",
    "from nltk.corpus import stopwords\n",
    "from nltk.stem import PorterStemmer\n",
    "from nltk.stem.wordnet import WordNetLemmatizer\n",
    "import string\n",
    "print(\"Imported Libraries\")"
   ]
  },
  {
   "cell_type": "code",
   "execution_count": 7,
   "metadata": {},
   "outputs": [],
   "source": [
    "dataset_path = f'./dataset'"
   ]
  },
  {
   "cell_type": "code",
   "execution_count": 8,
   "metadata": {},
   "outputs": [],
   "source": [
    "def data_loader(file_name, labelscheck):\n",
    "    if labelscheck:\n",
    "        data_list = open(f'{dataset_path}/{file_name}', 'r').read().split(\"\\n\")\n",
    "    else:\n",
    "        data_list = open(f'{dataset_path}/{file_name}', 'r', encoding=\"utf-8\").read().split(\"\\n\")\n",
    "    return data_list"
   ]
  },
  {
   "cell_type": "code",
   "execution_count": 9,
   "metadata": {},
   "outputs": [
    {
     "name": "stdout",
     "output_type": "stream",
     "text": [
      "['train_labels.txt', 'val_text.txt', 'val_labels.txt', 'test_labels.txt', 'train_text.txt', 'mapping.txt', 'test_text.txt']\n"
     ]
    }
   ],
   "source": [
    "print(os.listdir(dataset_path))"
   ]
  },
  {
   "cell_type": "code",
   "execution_count": 10,
   "metadata": {},
   "outputs": [
    {
     "data": {
      "text/html": [
       "<div>\n",
       "<style scoped>\n",
       "    .dataframe tbody tr th:only-of-type {\n",
       "        vertical-align: middle;\n",
       "    }\n",
       "\n",
       "    .dataframe tbody tr th {\n",
       "        vertical-align: top;\n",
       "    }\n",
       "\n",
       "    .dataframe thead th {\n",
       "        text-align: right;\n",
       "    }\n",
       "</style>\n",
       "<table border=\"1\" class=\"dataframe\">\n",
       "  <thead>\n",
       "    <tr style=\"text-align: right;\">\n",
       "      <th></th>\n",
       "      <th>text</th>\n",
       "      <th>labels</th>\n",
       "    </tr>\n",
       "  </thead>\n",
       "  <tbody>\n",
       "    <tr>\n",
       "      <th>0</th>\n",
       "      <td>@user nice new signage. Are you not concerned ...</td>\n",
       "      <td>0</td>\n",
       "    </tr>\n",
       "    <tr>\n",
       "      <th>1</th>\n",
       "      <td>A woman who you fucked multiple times saying y...</td>\n",
       "      <td>1</td>\n",
       "    </tr>\n",
       "    <tr>\n",
       "      <th>2</th>\n",
       "      <td>@user @user real talk do you have eyes or were...</td>\n",
       "      <td>1</td>\n",
       "    </tr>\n",
       "    <tr>\n",
       "      <th>3</th>\n",
       "      <td>your girlfriend lookin at me like a groupie in...</td>\n",
       "      <td>1</td>\n",
       "    </tr>\n",
       "    <tr>\n",
       "      <th>4</th>\n",
       "      <td>Hysterical woman like @user</td>\n",
       "      <td>0</td>\n",
       "    </tr>\n",
       "  </tbody>\n",
       "</table>\n",
       "</div>"
      ],
      "text/plain": [
       "                                                text labels\n",
       "0  @user nice new signage. Are you not concerned ...      0\n",
       "1  A woman who you fucked multiple times saying y...      1\n",
       "2  @user @user real talk do you have eyes or were...      1\n",
       "3  your girlfriend lookin at me like a groupie in...      1\n",
       "4                       Hysterical woman like @user       0"
      ]
     },
     "execution_count": 10,
     "metadata": {},
     "output_type": "execute_result"
    }
   ],
   "source": [
    "train = pd.DataFrame({'text':data_loader('train_text.txt', False),'labels': data_loader('train_labels.txt', True)}, dtype='string')\n",
    "train.head()"
   ]
  },
  {
   "cell_type": "code",
   "execution_count": 11,
   "metadata": {},
   "outputs": [
    {
     "name": "stdout",
     "output_type": "stream",
     "text": [
      "<class 'pandas.core.frame.DataFrame'>\n",
      "RangeIndex: 9001 entries, 0 to 9000\n",
      "Data columns (total 2 columns):\n",
      " #   Column  Non-Null Count  Dtype \n",
      "---  ------  --------------  ----- \n",
      " 0   text    9001 non-null   string\n",
      " 1   labels  9001 non-null   string\n",
      "dtypes: string(2)\n",
      "memory usage: 140.8 KB\n"
     ]
    }
   ],
   "source": [
    "train.info()"
   ]
  },
  {
   "cell_type": "code",
   "execution_count": 12,
   "metadata": {},
   "outputs": [
    {
     "data": {
      "text/plain": [
       "<bound method NDFrame.describe of                                                    text labels\n",
       "0     @user nice new signage. Are you not concerned ...      0\n",
       "1     A woman who you fucked multiple times saying y...      1\n",
       "2     @user @user real talk do you have eyes or were...      1\n",
       "3     your girlfriend lookin at me like a groupie in...      1\n",
       "4                          Hysterical woman like @user       0\n",
       "...                                                 ...    ...\n",
       "8996  @user Good Luck @user More Americans #WalkAway...      0\n",
       "8997            Bitch you can't keep up so stop trying       1\n",
       "8998  @user @user @user @user @user @user Japan is a...      0\n",
       "8999  @user hi Best l see someone fucking girl comme...      1\n",
       "9000                                                          \n",
       "\n",
       "[9001 rows x 2 columns]>"
      ]
     },
     "execution_count": 12,
     "metadata": {},
     "output_type": "execute_result"
    }
   ],
   "source": [
    "train.describe"
   ]
  },
  {
   "cell_type": "code",
   "execution_count": 13,
   "metadata": {},
   "outputs": [
    {
     "data": {
      "text/plain": [
       "text      0\n",
       "labels    0\n",
       "dtype: int64"
      ]
     },
     "execution_count": 13,
     "metadata": {},
     "output_type": "execute_result"
    }
   ],
   "source": [
    "train.isnull().sum()"
   ]
  },
  {
   "cell_type": "code",
   "execution_count": 14,
   "metadata": {},
   "outputs": [
    {
     "name": "stdout",
     "output_type": "stream",
     "text": [
      "Int64Index([9000], dtype='int64')\n",
      "Int64Index([1467, 1982, 3843, 6643, 6791, 7114, 8218, 9000], dtype='int64')\n"
     ]
    }
   ],
   "source": [
    "print(train[train['labels'] == ''].index)\n",
    "print(train[train['text'] == ''].index)"
   ]
  },
  {
   "cell_type": "code",
   "execution_count": 15,
   "metadata": {},
   "outputs": [],
   "source": [
    "train.replace(\"\", np.nan, inplace=True)\n",
    "train.dropna(subset=['labels', 'text'], inplace=True)"
   ]
  },
  {
   "cell_type": "code",
   "execution_count": 16,
   "metadata": {},
   "outputs": [
    {
     "data": {
      "text/plain": [
       "text      string\n",
       "labels    string\n",
       "dtype: object"
      ]
     },
     "execution_count": 16,
     "metadata": {},
     "output_type": "execute_result"
    }
   ],
   "source": [
    "train.dtypes"
   ]
  },
  {
   "cell_type": "code",
   "execution_count": 17,
   "metadata": {},
   "outputs": [
    {
     "data": {
      "text/html": [
       "<div>\n",
       "<style scoped>\n",
       "    .dataframe tbody tr th:only-of-type {\n",
       "        vertical-align: middle;\n",
       "    }\n",
       "\n",
       "    .dataframe tbody tr th {\n",
       "        vertical-align: top;\n",
       "    }\n",
       "\n",
       "    .dataframe thead th {\n",
       "        text-align: right;\n",
       "    }\n",
       "</style>\n",
       "<table border=\"1\" class=\"dataframe\">\n",
       "  <thead>\n",
       "    <tr style=\"text-align: right;\">\n",
       "      <th></th>\n",
       "      <th>text</th>\n",
       "      <th>labels</th>\n",
       "    </tr>\n",
       "  </thead>\n",
       "  <tbody>\n",
       "    <tr>\n",
       "      <th>8995</th>\n",
       "      <td>Oooohhhh bitch didn't even listen to the dead ...</td>\n",
       "      <td>0</td>\n",
       "    </tr>\n",
       "    <tr>\n",
       "      <th>8996</th>\n",
       "      <td>@user Good Luck @user More Americans #WalkAway...</td>\n",
       "      <td>0</td>\n",
       "    </tr>\n",
       "    <tr>\n",
       "      <th>8997</th>\n",
       "      <td>Bitch you can't keep up so stop trying</td>\n",
       "      <td>1</td>\n",
       "    </tr>\n",
       "    <tr>\n",
       "      <th>8998</th>\n",
       "      <td>@user @user @user @user @user @user Japan is a...</td>\n",
       "      <td>0</td>\n",
       "    </tr>\n",
       "    <tr>\n",
       "      <th>8999</th>\n",
       "      <td>@user hi Best l see someone fucking girl comme...</td>\n",
       "      <td>1</td>\n",
       "    </tr>\n",
       "  </tbody>\n",
       "</table>\n",
       "</div>"
      ],
      "text/plain": [
       "                                                   text labels\n",
       "8995  Oooohhhh bitch didn't even listen to the dead ...      0\n",
       "8996  @user Good Luck @user More Americans #WalkAway...      0\n",
       "8997            Bitch you can't keep up so stop trying       1\n",
       "8998  @user @user @user @user @user @user Japan is a...      0\n",
       "8999  @user hi Best l see someone fucking girl comme...      1"
      ]
     },
     "execution_count": 17,
     "metadata": {},
     "output_type": "execute_result"
    }
   ],
   "source": [
    "train.tail()"
   ]
  },
  {
   "cell_type": "code",
   "execution_count": 18,
   "metadata": {},
   "outputs": [
    {
     "data": {
      "text/plain": [
       "text      string\n",
       "labels     int64\n",
       "dtype: object"
      ]
     },
     "execution_count": 18,
     "metadata": {},
     "output_type": "execute_result"
    }
   ],
   "source": [
    "train['labels'] = train['labels'].astype(int)\n",
    "train.dtypes"
   ]
  },
  {
   "cell_type": "code",
   "execution_count": 19,
   "metadata": {},
   "outputs": [
    {
     "data": {
      "text/plain": [
       "array([0, 1])"
      ]
     },
     "execution_count": 19,
     "metadata": {},
     "output_type": "execute_result"
    }
   ],
   "source": [
    "train['labels'].unique()"
   ]
  },
  {
   "cell_type": "code",
   "execution_count": 20,
   "metadata": {},
   "outputs": [
    {
     "data": {
      "text/html": [
       "<div>\n",
       "<style scoped>\n",
       "    .dataframe tbody tr th:only-of-type {\n",
       "        vertical-align: middle;\n",
       "    }\n",
       "\n",
       "    .dataframe tbody tr th {\n",
       "        vertical-align: top;\n",
       "    }\n",
       "\n",
       "    .dataframe thead th {\n",
       "        text-align: right;\n",
       "    }\n",
       "</style>\n",
       "<table border=\"1\" class=\"dataframe\">\n",
       "  <thead>\n",
       "    <tr style=\"text-align: right;\">\n",
       "      <th></th>\n",
       "      <th>labels</th>\n",
       "    </tr>\n",
       "    <tr>\n",
       "      <th>0</th>\n",
       "      <th></th>\n",
       "    </tr>\n",
       "  </thead>\n",
       "  <tbody>\n",
       "    <tr>\n",
       "      <th>0</th>\n",
       "      <td>not-offensive</td>\n",
       "    </tr>\n",
       "    <tr>\n",
       "      <th>1</th>\n",
       "      <td>offensive</td>\n",
       "    </tr>\n",
       "  </tbody>\n",
       "</table>\n",
       "</div>"
      ],
      "text/plain": [
       "          labels\n",
       "0               \n",
       "0  not-offensive\n",
       "1      offensive"
      ]
     },
     "execution_count": 20,
     "metadata": {},
     "output_type": "execute_result"
    }
   ],
   "source": [
    "mapping = pd.read_csv(open(f'{dataset_path}/mapping.txt', 'r', encoding='utf-8'), index_col = 0, header = None, delimiter = '\\t')\n",
    "mapping.columns = ['labels']\n",
    "mapping.head()"
   ]
  },
  {
   "cell_type": "code",
   "execution_count": 21,
   "metadata": {},
   "outputs": [
    {
     "data": {
      "text/plain": [
       "labels    object\n",
       "dtype: object"
      ]
     },
     "execution_count": 21,
     "metadata": {},
     "output_type": "execute_result"
    }
   ],
   "source": [
    "mapping.dtypes"
   ]
  },
  {
   "cell_type": "code",
   "execution_count": 22,
   "metadata": {},
   "outputs": [
    {
     "data": {
      "text/plain": [
       "{0: 'not-offensive', 1: 'offensive'}"
      ]
     },
     "execution_count": 22,
     "metadata": {},
     "output_type": "execute_result"
    }
   ],
   "source": [
    "mapping['labels'].to_dict()"
   ]
  },
  {
   "cell_type": "code",
   "execution_count": 23,
   "metadata": {},
   "outputs": [],
   "source": [
    "train['label_text'] = train['labels'].map(mapping['labels'].to_dict())\n",
    "labelcounts = (train['label_text'].value_counts()/len(train['labels']))*100"
   ]
  },
  {
   "cell_type": "code",
   "execution_count": 24,
   "metadata": {},
   "outputs": [
    {
     "data": {
      "text/html": [
       "<div>\n",
       "<style scoped>\n",
       "    .dataframe tbody tr th:only-of-type {\n",
       "        vertical-align: middle;\n",
       "    }\n",
       "\n",
       "    .dataframe tbody tr th {\n",
       "        vertical-align: top;\n",
       "    }\n",
       "\n",
       "    .dataframe thead th {\n",
       "        text-align: right;\n",
       "    }\n",
       "</style>\n",
       "<table border=\"1\" class=\"dataframe\">\n",
       "  <thead>\n",
       "    <tr style=\"text-align: right;\">\n",
       "      <th></th>\n",
       "      <th>text</th>\n",
       "      <th>labels</th>\n",
       "      <th>label_text</th>\n",
       "    </tr>\n",
       "  </thead>\n",
       "  <tbody>\n",
       "    <tr>\n",
       "      <th>0</th>\n",
       "      <td>@user nice new signage. Are you not concerned ...</td>\n",
       "      <td>0</td>\n",
       "      <td>not-offensive</td>\n",
       "    </tr>\n",
       "    <tr>\n",
       "      <th>1</th>\n",
       "      <td>A woman who you fucked multiple times saying y...</td>\n",
       "      <td>1</td>\n",
       "      <td>offensive</td>\n",
       "    </tr>\n",
       "    <tr>\n",
       "      <th>2</th>\n",
       "      <td>@user @user real talk do you have eyes or were...</td>\n",
       "      <td>1</td>\n",
       "      <td>offensive</td>\n",
       "    </tr>\n",
       "    <tr>\n",
       "      <th>3</th>\n",
       "      <td>your girlfriend lookin at me like a groupie in...</td>\n",
       "      <td>1</td>\n",
       "      <td>offensive</td>\n",
       "    </tr>\n",
       "    <tr>\n",
       "      <th>4</th>\n",
       "      <td>Hysterical woman like @user</td>\n",
       "      <td>0</td>\n",
       "      <td>not-offensive</td>\n",
       "    </tr>\n",
       "    <tr>\n",
       "      <th>...</th>\n",
       "      <td>...</td>\n",
       "      <td>...</td>\n",
       "      <td>...</td>\n",
       "    </tr>\n",
       "    <tr>\n",
       "      <th>8995</th>\n",
       "      <td>Oooohhhh bitch didn't even listen to the dead ...</td>\n",
       "      <td>0</td>\n",
       "      <td>not-offensive</td>\n",
       "    </tr>\n",
       "    <tr>\n",
       "      <th>8996</th>\n",
       "      <td>@user Good Luck @user More Americans #WalkAway...</td>\n",
       "      <td>0</td>\n",
       "      <td>not-offensive</td>\n",
       "    </tr>\n",
       "    <tr>\n",
       "      <th>8997</th>\n",
       "      <td>Bitch you can't keep up so stop trying</td>\n",
       "      <td>1</td>\n",
       "      <td>offensive</td>\n",
       "    </tr>\n",
       "    <tr>\n",
       "      <th>8998</th>\n",
       "      <td>@user @user @user @user @user @user Japan is a...</td>\n",
       "      <td>0</td>\n",
       "      <td>not-offensive</td>\n",
       "    </tr>\n",
       "    <tr>\n",
       "      <th>8999</th>\n",
       "      <td>@user hi Best l see someone fucking girl comme...</td>\n",
       "      <td>1</td>\n",
       "      <td>offensive</td>\n",
       "    </tr>\n",
       "  </tbody>\n",
       "</table>\n",
       "<p>8993 rows × 3 columns</p>\n",
       "</div>"
      ],
      "text/plain": [
       "                                                   text  labels     label_text\n",
       "0     @user nice new signage. Are you not concerned ...       0  not-offensive\n",
       "1     A woman who you fucked multiple times saying y...       1      offensive\n",
       "2     @user @user real talk do you have eyes or were...       1      offensive\n",
       "3     your girlfriend lookin at me like a groupie in...       1      offensive\n",
       "4                          Hysterical woman like @user        0  not-offensive\n",
       "...                                                 ...     ...            ...\n",
       "8995  Oooohhhh bitch didn't even listen to the dead ...       0  not-offensive\n",
       "8996  @user Good Luck @user More Americans #WalkAway...       0  not-offensive\n",
       "8997            Bitch you can't keep up so stop trying        1      offensive\n",
       "8998  @user @user @user @user @user @user Japan is a...       0  not-offensive\n",
       "8999  @user hi Best l see someone fucking girl comme...       1      offensive\n",
       "\n",
       "[8993 rows x 3 columns]"
      ]
     },
     "execution_count": 24,
     "metadata": {},
     "output_type": "execute_result"
    }
   ],
   "source": [
    "train"
   ]
  },
  {
   "cell_type": "code",
   "execution_count": 25,
   "metadata": {},
   "outputs": [
    {
     "data": {
      "text/plain": [
       "not-offensive    57.933949\n",
       "offensive        42.066051\n",
       "Name: label_text, dtype: float64"
      ]
     },
     "execution_count": 25,
     "metadata": {},
     "output_type": "execute_result"
    }
   ],
   "source": [
    "labelcounts = (train['label_text'].value_counts()/len(train['labels']))*100\n",
    "labelcounts"
   ]
  },
  {
   "cell_type": "code",
   "execution_count": 26,
   "metadata": {},
   "outputs": [
    {
     "name": "stderr",
     "output_type": "stream",
     "text": [
      "/home/samvit/anaconda3/lib/python3.9/site-packages/seaborn/_decorators.py:36: FutureWarning: Pass the following variables as keyword args: x, y. From version 0.12, the only valid positional argument will be `data`, and passing other arguments without an explicit keyword will result in an error or misinterpretation.\n",
      "  warnings.warn(\n"
     ]
    },
    {
     "data": {
      "text/plain": [
       "Text(0.5, 1.0, 'Labels Distribution')"
      ]
     },
     "execution_count": 26,
     "metadata": {},
     "output_type": "execute_result"
    },
    {
     "data": {
      "image/png": "[encoded data removed]",
      "text/plain": [
       "<Figure size 432x288 with 1 Axes>"
      ]
     },
     "metadata": {},
     "output_type": "display_data"
    }
   ],
   "source": [
    "sns.set_style('darkgrid')\n",
    "labelperc = sns.barplot(labelcounts.index, labelcounts.values, palette = 'hls')\n",
    "labelperc.set_title(\"Labels Distribution\")"
   ]
  },
  {
   "cell_type": "code",
   "execution_count": 27,
   "metadata": {},
   "outputs": [
    {
     "data": {
      "image/png": "[encoded data removed]",
      "text/plain": [
       "<Figure size 432x288 with 1 Axes>"
      ]
     },
     "metadata": {},
     "output_type": "display_data"
    }
   ],
   "source": [
    "plt.hist(train['labels'], density=True)\n",
    "plt.show()"
   ]
  },
  {
   "cell_type": "code",
   "execution_count": 28,
   "metadata": {},
   "outputs": [
    {
     "data": {
      "text/plain": [
       "60"
      ]
     },
     "execution_count": 28,
     "metadata": {},
     "output_type": "execute_result"
    }
   ],
   "source": [
    "train_subset = train['text'].to_list()[:60]\n",
    "len(train_subset)"
   ]
  },
  {
   "cell_type": "code",
   "execution_count": 29,
   "metadata": {},
   "outputs": [
    {
     "data": {
      "text/plain": [
       "['@user nice new signage. Are you not concerned by Beatlemania -style hysterical crowds crongregating on you… ',\n",
       " 'A woman who you fucked multiple times saying yo dick small is a compliment you know u hit that spot 😎 ',\n",
       " '@user @user real talk do you have eyes or were they gouged out by a rapefugee? ',\n",
       " 'your girlfriend lookin at me like a groupie in this bitch! ',\n",
       " 'Hysterical woman like @user ',\n",
       " 'Me flirting- So tell me about your father... ',\n",
       " 'The Philippine Catholic bishops\\' work for migrant workers should focus on families who are \"paying the great... ',\n",
       " \"I AM NOT GOING AFTER YOUR EX BF YOU LIEING SACK OF SHIT ! I'm done with you dude that's why I dumped your ass cause your a lieing 😂😡 bitch \",\n",
       " 'When cuffin season is finally over ',\n",
       " 'Send home migrants not in need of protection, Peter Dutton tells UN, HEY DUTTON HOW ABOUT THE ONES THAT HAVE STAYED AND NOT LEFT THE COUNTRY WHEN THEY SHOULD OVERSTAYERS ? WHY DONT YOU GO AND ROUND ALL THEM UP ?  ',\n",
       " 'Cory Booker and Kamala Harris competing for Most Hysterical Woman at the Kavanaugh hearings, Coulter hilariously tweeted.And yes, liberals immediately got triggered on Twitter, saying her joke was offensive. To them we say, suck it up, snowflakes. ',\n",
       " \"Only that in you which is me can hear what I'm saying. ~Baba Ram Dass \",\n",
       " \"Should have let the Libyan Manchester bomber rot in his own country. How many more mass murderers did the Royal Navy import to Britain? How many more terrorists do the NGO's rescue from international waters? #RefugeesNotWelcome \",\n",
       " 'More migrants take sea route to #Spain than Italy this year: UN ',\n",
       " 'Essential reading for those in Scribner, Nebraska who are considering an anti-immigrant ballot measure. ',\n",
       " 'This account was temporarily inactive due to an irrational woman reporting us to Twitter. What a lack of judgement, shocking. #YesAllMen ',\n",
       " 'RT @user @user I am flattered tbh. I got an orgasm just by thinking of it you really are good at this. ',\n",
       " 'Making them look ~anatomically correct~ just makes them... Bland. Not all women are tiny and fit, not all men are bulky. ',\n",
       " 'listen... i love lil b but i would not fuck with dej loaf at all. she prob got poison up in her nail polish like that bitch from holes ',\n",
       " '@user @user keep calling her a bitch and a whore dude real grown up. ',\n",
       " \"Glad your having another nice vacation. How's the illegal border crossings, illegal oportunistic migrant entries, tax payer funded hotel rooms for same without a strategic plan going? @user @user @user @user @user @user \",\n",
       " '@user Unchecked Population&amp;migration to cities is biggest evil for dirty India.Disincentive large families,such as withdrawl of sops ',\n",
       " 'Illegal Alien Hit Man, Dragged Him For Blocks In Deadly DUI Crash #BuildTheWall #NoAmnesty #NoDACA #DeportThemAll #KeepAmericaSafe ',\n",
       " 'An Honest Article About Illegal Immigration By a Lefty?? Are Pigs Flying? -     A miracle... ',\n",
       " '@user @user @user @user please spread the word  -&gt;&gt; using frequent flyer miles to reunite immigrant families! ',\n",
       " \"knuckle up cause I'll fight for mines Yo pussy petty, U wasting time .. U seasonal, part time U get fucked up fuckin w/ mine U lil bitch \",\n",
       " \"Yes, women who protest are 'irrational' 'hysterical' 'bitters spinsters' - long history of using that shit to dismi… \",\n",
       " '@user Not all men are animals. You Libs want muslims to come over still? Better pick a side. ',\n",
       " 'Federal judge to #Trump: \"imminent danger\" of \"irreparable injury to #refugees, visa-holders\", etc. @user ',\n",
       " \"This bitch whom I won't name on Facebook is such a shameless woman ruining a relationship. #getalife #stopspreadinglies #hoe \"]"
      ]
     },
     "execution_count": 29,
     "metadata": {},
     "output_type": "execute_result"
    }
   ],
   "source": [
    "train_subset[:30]"
   ]
  },
  {
   "cell_type": "code",
   "execution_count": 30,
   "metadata": {},
   "outputs": [],
   "source": [
    "for text in train_subset:\n",
    "    for t in text.split(\" \"):\n",
    "        if '\\\\u' in t:\n",
    "            print(t)"
   ]
  },
  {
   "cell_type": "code",
   "execution_count": 31,
   "metadata": {},
   "outputs": [],
   "source": [
    "def preprocess(text):\n",
    "    new_text = []\n",
    "    for t in text.split(\" \"):\n",
    "        t = '@user' if t.startswith('@') and len(t) > 1 else t\n",
    "        t = 'http' if t.startswith('http') else t\n",
    "        t =  str.replace(t, '\\\\u2019', \"'\")\n",
    "        t =  str.replace(t, '\\u002c', \",\")\n",
    "        new_text.append(t)\n",
    "    return \" \".join(new_text)"
   ]
  },
  {
   "cell_type": "code",
   "execution_count": 32,
   "metadata": {},
   "outputs": [
    {
     "name": "stdout",
     "output_type": "stream",
     "text": [
      "Raw : Should have let the Libyan Manchester bomber rot in his own country. How many more mass murderers did the Royal Navy import to Britain? How many more terrorists do the NGO's rescue from international waters? #RefugeesNotWelcome \n",
      "Cleaned : Should have let the Libyan Manchester bomber rot in his own country. How many more mass murderers did the Royal Navy import to Britain? How many more terrorists do the NGO's rescue from international waters? #RefugeesNotWelcome \n"
     ]
    }
   ],
   "source": [
    "print('Raw :', train_subset[12])\n",
    "print('Cleaned :',preprocess(train_subset[12]))"
   ]
  },
  {
   "cell_type": "code",
   "execution_count": 33,
   "metadata": {},
   "outputs": [],
   "source": [
    "def stop_words(text_list):\n",
    "    stop = stopwords.words('english')\n",
    "    newlist = list(map(lambda x: ' '.join([word for word in x.split() if word not in (stop)]), text_list))\n",
    "    return newlist"
   ]
  },
  {
   "cell_type": "code",
   "execution_count": 34,
   "metadata": {},
   "outputs": [
    {
     "data": {
      "text/plain": [
       "['@user nice new signage. Are concerned Beatlemania -style hysterical crowds crongregating you…',\n",
       " 'A woman fucked multiple times saying yo dick small compliment know u hit spot 😎',\n",
       " '@user @user real talk eyes gouged rapefugee?',\n",
       " 'girlfriend lookin like groupie bitch!',\n",
       " 'Hysterical woman like @user']"
      ]
     },
     "execution_count": 34,
     "metadata": {},
     "output_type": "execute_result"
    }
   ],
   "source": [
    "stop_words(train_subset[:5])"
   ]
  },
  {
   "cell_type": "code",
   "execution_count": 35,
   "metadata": {},
   "outputs": [],
   "source": [
    "def test(s):\n",
    "    exclude = set(string.punctuation)\n",
    "    if len(s) > 2:\n",
    "        t = ''.join(ch for ch in s if ch not in exclude and len(s) > 2)\n",
    "    else:\n",
    "        t = s\n",
    "    return t"
   ]
  },
  {
   "cell_type": "code",
   "execution_count": 36,
   "metadata": {},
   "outputs": [
    {
     "data": {
      "text/plain": [
       "['Send home migrants not in need of protection, Peter Dutton tells UN, HEY DUTTON HOW ABOUT THE ONES THAT HAVE STAYED AND NOT LEFT THE COUNTRY WHEN THEY SHOULD OVERSTAYERS ? WHY DONT YOU GO AND ROUND ALL THEM UP ?  ',\n",
       " 'Cory Booker and Kamala Harris competing for Most Hysterical Woman at the Kavanaugh hearings, Coulter hilariously tweeted.And yes, liberals immediately got triggered on Twitter, saying her joke was offensive. To them we say, suck it up, snowflakes. ',\n",
       " \"Only that in you which is me can hear what I'm saying. ~Baba Ram Dass \",\n",
       " \"Should have let the Libyan Manchester bomber rot in his own country. How many more mass murderers did the Royal Navy import to Britain? How many more terrorists do the NGO's rescue from international waters? #RefugeesNotWelcome \"]"
      ]
     },
     "execution_count": 36,
     "metadata": {},
     "output_type": "execute_result"
    }
   ],
   "source": [
    "train_subset[9:13]"
   ]
  },
  {
   "cell_type": "code",
   "execution_count": 37,
   "metadata": {},
   "outputs": [
    {
     "data": {
      "text/plain": [
       "['Send home migrants not in need of protection Peter Dutton tells UN HEY DUTTON HOW ABOUT THE ONES THAT HAVE STAYED AND NOT LEFT THE COUNTRY WHEN THEY SHOULD OVERSTAYERS  WHY DONT YOU GO AND ROUND ALL THEM UP   ',\n",
       " 'Cory Booker and Kamala Harris competing for Most Hysterical Woman at the Kavanaugh hearings Coulter hilariously tweetedAnd yes liberals immediately got triggered on Twitter saying her joke was offensive To them we say suck it up snowflakes ',\n",
       " 'Only that in you which is me can hear what Im saying Baba Ram Dass ',\n",
       " 'Should have let the Libyan Manchester bomber rot in his own country How many more mass murderers did the Royal Navy import to Britain How many more terrorists do the NGOs rescue from international waters RefugeesNotWelcome ']"
      ]
     },
     "execution_count": 37,
     "metadata": {},
     "output_type": "execute_result"
    }
   ],
   "source": [
    "list(map(test, train_subset[9:13]))"
   ]
  },
  {
   "cell_type": "code",
   "execution_count": 38,
   "metadata": {},
   "outputs": [],
   "source": [
    "def stemming(text_list):\n",
    "    ps = PorterStemmer()\n",
    "    newlist = list(map(lambda x: ' '.join([ps.stem(word) for word in x.split()]), text_list))\n",
    "    return newlist"
   ]
  },
  {
   "cell_type": "code",
   "execution_count": 39,
   "metadata": {},
   "outputs": [
    {
     "data": {
      "text/plain": [
       "['@user nice new signage. are you not concern by beatlemania -style hyster crowd crongreg on you…',\n",
       " 'a woman who you fuck multipl time say yo dick small is a compliment you know u hit that spot 😎',\n",
       " '@user @user real talk do you have eye or were they goug out by a rapefugee?',\n",
       " 'your girlfriend lookin at me like a groupi in thi bitch!',\n",
       " 'hyster woman like @user']"
      ]
     },
     "execution_count": 39,
     "metadata": {},
     "output_type": "execute_result"
    }
   ],
   "source": [
    "#train_subset = stemming(train_subet)\n",
    "stemming(train_subset[:5])"
   ]
  },
  {
   "cell_type": "code",
   "execution_count": 40,
   "metadata": {},
   "outputs": [],
   "source": [
    "def lemmatizing(text_list):\n",
    "    lmtzr = WordNetLemmatizer()\n",
    "    newlist = list(map(lambda x: ' '.join([lmtzr.lemmatize(word, 'v') for word in x.split()]), text_list))\n",
    "    return newlist"
   ]
  },
  {
   "cell_type": "code",
   "execution_count": 41,
   "metadata": {},
   "outputs": [
    {
     "data": {
      "text/plain": [
       "['@user nice new signage. Are you not concern by Beatlemania -style hysterical crowd crongregating on you…',\n",
       " 'A woman who you fuck multiple time say yo dick small be a compliment you know u hit that spot 😎',\n",
       " '@user @user real talk do you have eye or be they gouge out by a rapefugee?',\n",
       " 'your girlfriend lookin at me like a groupie in this bitch!',\n",
       " 'Hysterical woman like @user']"
      ]
     },
     "execution_count": 41,
     "metadata": {},
     "output_type": "execute_result"
    }
   ],
   "source": [
    "lemmatizing(train_subset[:5])"
   ]
  },
  {
   "cell_type": "code",
   "execution_count": 42,
   "metadata": {},
   "outputs": [],
   "source": [
    "test_subset = data_loader('test_text.txt', False)[:10]"
   ]
  },
  {
   "cell_type": "code",
   "execution_count": 43,
   "metadata": {},
   "outputs": [
    {
     "data": {
      "text/plain": [
       "[\"@user , you are correct that Reid certainly is a weasel. Sadly, we've got our own weasels; @user Sen McConnell & @user .The corrupt Mueller investigation w/be STOPPED if those 3 did their jobs.#MAGA #KAG #POTUS #Trump #NEWS #VoteRed #NoDACA #USA \",\n",
       " 'Whoever just unfollowed me you a bitch ',\n",
       " '@user @user Those People Invaded Us!!! They DO NOT BELING HERE & HAVE NO RIGHTS! Its #AmericaFIRST! Open Your House To Them If Your That IGNORANT! & Yes Im A #Christian Too! #NODACA! ',\n",
       " \"stop JUDGING bitches by there cover, jus cuz she bad don't mean she's a catch shawdy could be a whore 👀 das opposite of a keeper \",\n",
       " 'how about i knock heads off and send them gift wrapped to your moms house you dumb raggedy bird bitch ass hoes ',\n",
       " '@user @user @user Always #NoDACA.I AM BORN IN #USA AND #USA FIRST. ',\n",
       " \"@user friends ? that's my BLOOD brother bitch .. he in yo city !! i'm hours away . ill be through there tomo… \",\n",
       " \"@user @user Muslims attacked US on 9/11, 3000 killed. Subsequently we allowed more Muslims in our country?!?Does this make any sense to you?You can thank Obama, his liberals minions, RINO's & political correctness. #MuslimBan #BanIslam #TravelBan #DrainTheDeepState #DeportThemAll \",\n",
       " \"@user @user Like he ever kept out any threats. He's lying as usual. #BuildThatWall \",\n",
       " '#germany deserves to called #cuck/land they allow in #isis fighters as #Refugees even if they raped underaged girls. this #yazidi girl is scared of this and she is forced to see the face of her rapist.#refugeesnotwelcome should apply to these scum ']"
      ]
     },
     "execution_count": 43,
     "metadata": {},
     "output_type": "execute_result"
    }
   ],
   "source": [
    "test_subset"
   ]
  },
  {
   "cell_type": "code",
   "execution_count": 44,
   "metadata": {},
   "outputs": [
    {
     "name": "stderr",
     "output_type": "stream",
     "text": [
      "2023-06-12 20:14:30.240804: W tensorflow/stream_executor/platform/default/dso_loader.cc:64] Could not load dynamic library 'libcudart.so.11.0'; dlerror: libcudart.so.11.0: cannot open shared object file: No such file or directory\n",
      "2023-06-12 20:14:30.240842: I tensorflow/stream_executor/cuda/cudart_stub.cc:29] Ignore above cudart dlerror if you do not have a GPU set up on your machine.\n",
      "/home/samvit/anaconda3/lib/python3.9/site-packages/transformers/tokenization_utils_base.py:2357: UserWarning: `max_length` is ignored when `padding`=`True` and there is no truncation strategy. To pad to max length, use `padding='max_length'`.\n",
      "  warnings.warn(\n"
     ]
    }
   ],
   "source": [
    "from transformers import AutoModelForSequenceClassification\n",
    "from transformers import TFAutoModelForSequenceClassification\n",
    "from transformers import AutoTokenizer\n",
    "from scipy.special import softmax\n",
    "import numpy as np\n",
    "\n",
    "MODEL = f\"cardiffnlp/twitter-roberta-base-hate\"\n",
    "\n",
    "tokenizer = AutoTokenizer.from_pretrained(MODEL)\n",
    "model = AutoModelForSequenceClassification.from_pretrained(MODEL)\n",
    "model.save_pretrained(MODEL)\n",
    "\n",
    "encoded_input = tokenizer(test_subset, max_length=32, padding=True, return_tensors='pt')['input_ids']"
   ]
  },
  {
   "cell_type": "code",
   "execution_count": 45,
   "metadata": {},
   "outputs": [
    {
     "data": {
      "text/plain": [
       "SequenceClassifierOutput(loss=None, logits=tensor([[-1.0182,  0.9890],\n",
       "        [ 0.1830, -0.2092],\n",
       "        [-0.8242,  0.5331],\n",
       "        [-0.6603,  0.6526],\n",
       "        [-0.4094,  0.5363],\n",
       "        [-0.8487,  0.6315],\n",
       "        [ 1.0127, -1.0206],\n",
       "        [-1.2656,  1.0748],\n",
       "        [-1.3621,  1.3502],\n",
       "        [-0.2181,  0.1434]], grad_fn=<AddmmBackward0>), hidden_states=None, attentions=None)"
      ]
     },
     "execution_count": 45,
     "metadata": {},
     "output_type": "execute_result"
    }
   ],
   "source": [
    "output = model(encoded_input)\n",
    "output"
   ]
  },
  {
   "cell_type": "code",
   "execution_count": 46,
   "metadata": {},
   "outputs": [
    {
     "data": {
      "text/plain": [
       "tensor([[-1.0182,  0.9890],\n",
       "        [ 0.1830, -0.2092],\n",
       "        [-0.8242,  0.5331],\n",
       "        [-0.6603,  0.6526],\n",
       "        [-0.4094,  0.5363],\n",
       "        [-0.8487,  0.6315],\n",
       "        [ 1.0127, -1.0206],\n",
       "        [-1.2656,  1.0748],\n",
       "        [-1.3621,  1.3502],\n",
       "        [-0.2181,  0.1434]], grad_fn=<AddmmBackward0>)"
      ]
     },
     "execution_count": 46,
     "metadata": {},
     "output_type": "execute_result"
    }
   ],
   "source": [
    "output[0]"
   ]
  },
  {
   "cell_type": "code",
   "execution_count": 47,
   "metadata": {},
   "outputs": [
    {
     "data": {
      "text/plain": [
       "array([[-1.0182284 ,  0.9889734 ],\n",
       "       [ 0.18295588, -0.20919918],\n",
       "       [-0.82415605,  0.53306806],\n",
       "       [-0.66032887,  0.65259045],\n",
       "       [-0.40936768,  0.53628135],\n",
       "       [-0.8487104 ,  0.6314905 ],\n",
       "       [ 1.0126742 , -1.020614  ],\n",
       "       [-1.2655513 ,  1.0747603 ],\n",
       "       [-1.362078  ,  1.3501619 ],\n",
       "       [-0.218055  ,  0.14335416]], dtype=float32)"
      ]
     },
     "execution_count": 47,
     "metadata": {},
     "output_type": "execute_result"
    }
   ],
   "source": [
    "scores = output[0].detach().numpy()\n",
    "scores"
   ]
  },
  {
   "cell_type": "code",
   "execution_count": 48,
   "metadata": {},
   "outputs": [
    {
     "data": {
      "text/plain": [
       "array([[0.01351882, 0.10061334],\n",
       "       [0.04493726, 0.03035959],\n",
       "       [0.01641434, 0.06377617],\n",
       "       [0.01933627, 0.0718731 ],\n",
       "       [0.02485214, 0.06398144],\n",
       "       [0.0160162 , 0.07037245],\n",
       "       [0.10302645, 0.01348661],\n",
       "       [0.0105567 , 0.10962571],\n",
       "       [0.00958533, 0.14438356],\n",
       "       [0.03009191, 0.04319245]], dtype=float32)"
      ]
     },
     "execution_count": 48,
     "metadata": {},
     "output_type": "execute_result"
    }
   ],
   "source": [
    "scores_soft = softmax(scores)\n",
    "scores_soft"
   ]
  },
  {
   "cell_type": "code",
   "execution_count": 49,
   "metadata": {},
   "outputs": [],
   "source": [
    "predicted_labels = []\n",
    "for scores in scores_soft:\n",
    "    ranking = np.argsort(scores)\n",
    "    ranking = ranking[::-1]\n",
    "    predicted_labels.append(ranking[0])"
   ]
  },
  {
   "cell_type": "code",
   "execution_count": 50,
   "metadata": {},
   "outputs": [
    {
     "data": {
      "text/plain": [
       "[1, 0, 1, 1, 1, 1, 0, 1, 1, 1]"
      ]
     },
     "execution_count": 50,
     "metadata": {},
     "output_type": "execute_result"
    }
   ],
   "source": [
    "predicted_labels"
   ]
  },
  {
   "cell_type": "code",
   "execution_count": 51,
   "metadata": {},
   "outputs": [],
   "source": [
    "test_df = pd.DataFrame({'text': test_subset, 'predicted_labels': predicted_labels})"
   ]
  },
  {
   "cell_type": "code",
   "execution_count": 52,
   "metadata": {},
   "outputs": [],
   "source": [
    "test_df['pred_label_text'] = test_df['predicted_labels'].map(mapping['labels'].to_dict())"
   ]
  },
  {
   "cell_type": "code",
   "execution_count": 53,
   "metadata": {},
   "outputs": [
    {
     "data": {
      "text/html": [
       "<div>\n",
       "<style scoped>\n",
       "    .dataframe tbody tr th:only-of-type {\n",
       "        vertical-align: middle;\n",
       "    }\n",
       "\n",
       "    .dataframe tbody tr th {\n",
       "        vertical-align: top;\n",
       "    }\n",
       "\n",
       "    .dataframe thead th {\n",
       "        text-align: right;\n",
       "    }\n",
       "</style>\n",
       "<table border=\"1\" class=\"dataframe\">\n",
       "  <thead>\n",
       "    <tr style=\"text-align: right;\">\n",
       "      <th></th>\n",
       "      <th>text</th>\n",
       "      <th>predicted_labels</th>\n",
       "      <th>pred_label_text</th>\n",
       "    </tr>\n",
       "  </thead>\n",
       "  <tbody>\n",
       "    <tr>\n",
       "      <th>0</th>\n",
       "      <td>@user , you are correct that Reid certainly is...</td>\n",
       "      <td>1</td>\n",
       "      <td>offensive</td>\n",
       "    </tr>\n",
       "    <tr>\n",
       "      <th>1</th>\n",
       "      <td>Whoever just unfollowed me you a bitch</td>\n",
       "      <td>0</td>\n",
       "      <td>not-offensive</td>\n",
       "    </tr>\n",
       "    <tr>\n",
       "      <th>2</th>\n",
       "      <td>@user @user Those People Invaded Us!!! They DO...</td>\n",
       "      <td>1</td>\n",
       "      <td>offensive</td>\n",
       "    </tr>\n",
       "    <tr>\n",
       "      <th>3</th>\n",
       "      <td>stop JUDGING bitches by there cover, jus cuz s...</td>\n",
       "      <td>1</td>\n",
       "      <td>offensive</td>\n",
       "    </tr>\n",
       "    <tr>\n",
       "      <th>4</th>\n",
       "      <td>how about i knock heads off and send them gift...</td>\n",
       "      <td>1</td>\n",
       "      <td>offensive</td>\n",
       "    </tr>\n",
       "    <tr>\n",
       "      <th>5</th>\n",
       "      <td>@user @user @user Always #NoDACA.I AM BORN IN ...</td>\n",
       "      <td>1</td>\n",
       "      <td>offensive</td>\n",
       "    </tr>\n",
       "    <tr>\n",
       "      <th>6</th>\n",
       "      <td>@user friends ? that's my BLOOD brother bitch ...</td>\n",
       "      <td>0</td>\n",
       "      <td>not-offensive</td>\n",
       "    </tr>\n",
       "    <tr>\n",
       "      <th>7</th>\n",
       "      <td>@user @user Muslims attacked US on 9/11, 3000 ...</td>\n",
       "      <td>1</td>\n",
       "      <td>offensive</td>\n",
       "    </tr>\n",
       "    <tr>\n",
       "      <th>8</th>\n",
       "      <td>@user @user Like he ever kept out any threats....</td>\n",
       "      <td>1</td>\n",
       "      <td>offensive</td>\n",
       "    </tr>\n",
       "    <tr>\n",
       "      <th>9</th>\n",
       "      <td>#germany deserves to called #cuck/land they al...</td>\n",
       "      <td>1</td>\n",
       "      <td>offensive</td>\n",
       "    </tr>\n",
       "  </tbody>\n",
       "</table>\n",
       "</div>"
      ],
      "text/plain": [
       "                                                text  predicted_labels  \\\n",
       "0  @user , you are correct that Reid certainly is...                 1   \n",
       "1            Whoever just unfollowed me you a bitch                  0   \n",
       "2  @user @user Those People Invaded Us!!! They DO...                 1   \n",
       "3  stop JUDGING bitches by there cover, jus cuz s...                 1   \n",
       "4  how about i knock heads off and send them gift...                 1   \n",
       "5  @user @user @user Always #NoDACA.I AM BORN IN ...                 1   \n",
       "6  @user friends ? that's my BLOOD brother bitch ...                 0   \n",
       "7  @user @user Muslims attacked US on 9/11, 3000 ...                 1   \n",
       "8  @user @user Like he ever kept out any threats....                 1   \n",
       "9  #germany deserves to called #cuck/land they al...                 1   \n",
       "\n",
       "  pred_label_text  \n",
       "0       offensive  \n",
       "1   not-offensive  \n",
       "2       offensive  \n",
       "3       offensive  \n",
       "4       offensive  \n",
       "5       offensive  \n",
       "6   not-offensive  \n",
       "7       offensive  \n",
       "8       offensive  \n",
       "9       offensive  "
      ]
     },
     "execution_count": 53,
     "metadata": {},
     "output_type": "execute_result"
    }
   ],
   "source": [
    "test_df"
   ]
  }
 ],
 "metadata": {
  "kernelspec": {
   "display_name": "Python 3",
   "language": "python",
   "name": "python3"
  },
  "language_info": {
   "codemirror_mode": {
    "name": "ipython",
    "version": 3
   },
   "file_extension": ".py",
   "mimetype": "text/x-python",
   "name": "python",
   "nbconvert_exporter": "python",
   "pygments_lexer": "ipython3",
   "version": "3.9.7"
  }
 },
 "nbformat": 4,
 "nbformat_minor": 4
}
